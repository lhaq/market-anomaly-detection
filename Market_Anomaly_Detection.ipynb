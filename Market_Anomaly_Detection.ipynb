{
  "nbformat": 4,
  "nbformat_minor": 0,
  "metadata": {
    "colab": {
      "provenance": [],
      "include_colab_link": true
    },
    "kernelspec": {
      "name": "python3",
      "display_name": "Python 3"
    },
    "language_info": {
      "name": "python"
    }
  },
  "cells": [
    {
      "cell_type": "markdown",
      "metadata": {
        "id": "view-in-github",
        "colab_type": "text"
      },
      "source": [
        "<a href=\"https://colab.research.google.com/github/lhaq/market-anomaly-detection/blob/main/Market_Anomaly_Detection.ipynb\" target=\"_parent\"><img src=\"https://colab.research.google.com/assets/colab-badge.svg\" alt=\"Open In Colab\"/></a>"
      ]
    },
    {
      "cell_type": "code",
      "source": [
        "! pip install gradio -q"
      ],
      "metadata": {
        "colab": {
          "base_uri": "https://localhost:8080/"
        },
        "id": "R0v8sGEGwi84",
        "outputId": "152c0ffd-8fa2-4b71-baa9-c2257205c20b"
      },
      "execution_count": null,
      "outputs": [
        {
          "output_type": "stream",
          "name": "stdout",
          "text": [
            "\u001b[2K   \u001b[90m━━━━━━━━━━━━━━━━━━━━━━━━━━━━━━━━━━━━━━━━\u001b[0m \u001b[32m57.6/57.6 MB\u001b[0m \u001b[31m9.5 MB/s\u001b[0m eta \u001b[36m0:00:00\u001b[0m\n",
            "\u001b[2K   \u001b[90m━━━━━━━━━━━━━━━━━━━━━━━━━━━━━━━━━━━━━━━━\u001b[0m \u001b[32m321.4/321.4 kB\u001b[0m \u001b[31m18.7 MB/s\u001b[0m eta \u001b[36m0:00:00\u001b[0m\n",
            "\u001b[2K   \u001b[90m━━━━━━━━━━━━━━━━━━━━━━━━━━━━━━━━━━━━━━━━\u001b[0m \u001b[32m94.8/94.8 kB\u001b[0m \u001b[31m6.4 MB/s\u001b[0m eta \u001b[36m0:00:00\u001b[0m\n",
            "\u001b[2K   \u001b[90m━━━━━━━━━━━━━━━━━━━━━━━━━━━━━━━━━━━━━━━━\u001b[0m \u001b[32m11.3/11.3 MB\u001b[0m \u001b[31m64.7 MB/s\u001b[0m eta \u001b[36m0:00:00\u001b[0m\n",
            "\u001b[2K   \u001b[90m━━━━━━━━━━━━━━━━━━━━━━━━━━━━━━━━━━━━━━━━\u001b[0m \u001b[32m73.2/73.2 kB\u001b[0m \u001b[31m4.9 MB/s\u001b[0m eta \u001b[36m0:00:00\u001b[0m\n",
            "\u001b[2K   \u001b[90m━━━━━━━━━━━━━━━━━━━━━━━━━━━━━━━━━━━━━━━━\u001b[0m \u001b[32m62.3/62.3 kB\u001b[0m \u001b[31m4.2 MB/s\u001b[0m eta \u001b[36m0:00:00\u001b[0m\n",
            "\u001b[?25h"
          ]
        }
      ]
    },
    {
      "cell_type": "code",
      "source": [
        "import gradio as gr\n",
        "import pandas as pd\n",
        "import numpy as np\n",
        "import xgboost as xgb\n",
        "from sklearn.model_selection import train_test_split\n",
        "from sklearn.metrics import mean_squared_error, accuracy_score, precision_score, recall_score, f1_score, classification_report\n",
        "import matplotlib.pyplot as plt\n",
        "\n",
        "def analyze_financial_market_data(df):\n",
        "    # Ensure the 'Data' column is in datetime format\n",
        "    df['Data'] = pd.to_datetime(df['Data'])\n",
        "\n",
        "    # Calculate the 28-day moving average of VIX\n",
        "    df['VIX_28_MA'] = df['VIX'].rolling(window=4).mean()\n",
        "\n",
        "    # Define the target variable for VIX above 30\n",
        "    df['VIX_above_30'] = (df['VIX_28_MA'] > 30).astype(int)\n",
        "\n",
        "    # Create features and target dataset for VIX prediction\n",
        "    features_vix = df[['XAU BGNL', 'USGG2YR', 'MXUS', 'MXEU', 'MXJP', 'MXBR', 'MXRU', 'MXIN', 'MXCN']]\n",
        "    target_vix = df['VIX_above_30']\n",
        "\n",
        "    # Split the data into training and testing sets for VIX prediction\n",
        "    X_train_vix, X_test_vix, y_train_vix, y_test_vix = train_test_split(features_vix, target_vix, test_size=0.2, random_state=42)\n",
        "\n",
        "    # Train the XGBoost model for VIX prediction\n",
        "    model_vix = xgb.XGBClassifier(use_label_encoder=False, eval_metric='logloss')\n",
        "    model_vix.fit(X_train_vix, y_train_vix)\n",
        "\n",
        "    # Predict on the test set for VIX prediction\n",
        "    y_pred_vix = model_vix.predict(X_test_vix)\n",
        "\n",
        "    # Evaluate the model for VIX prediction\n",
        "    mse_vix = mean_squared_error(y_test_vix, y_pred_vix)\n",
        "    result = f'Mean Squared Error for VIX prediction: {mse_vix}\\n'\n",
        "\n",
        "    # Generate the classification report for VIX prediction\n",
        "    report_vix = classification_report(y_test_vix, y_pred_vix)\n",
        "\n",
        "    # Predict the 28-day moving average of VIX\n",
        "    df['VIX_28_MA_Pred'] = model_vix.predict(features_vix)\n",
        "\n",
        "    # Investment strategy\n",
        "    def investment_strategy(row):\n",
        "        if row['VIX_28_MA_Pred'] == 1:\n",
        "            if row['VIX_28_MA'] > 30:\n",
        "                return 'Convert assets to XAU'\n",
        "            elif row['VIX'] > row['VIX_28_MA']:\n",
        "                return 'Hold'\n",
        "            elif row['VIX'] < row['VIX_28_MA']:\n",
        "                return 'Convert some XAU to other assets'\n",
        "        return 'No action'\n",
        "\n",
        "    df['Investment_Strategy'] = df.apply(investment_strategy, axis=1)\n",
        "\n",
        "    # Display the investment strategy\n",
        "    result += df[['Data', 'VIX', 'VIX_28_MA', 'VIX_28_MA_Pred', 'Investment_Strategy']].to_string() + \"\\n\"\n",
        "\n",
        "    # Plot the VIX and the 28-day moving average\n",
        "    plt.figure(figsize=(14, 7))\n",
        "    plt.plot(df['Data'], df['VIX'], label='VIX')\n",
        "    plt.plot(df['Data'], df['VIX_28_MA'], label='28-day MA of VIX')\n",
        "    plt.xlabel('Date')\n",
        "    plt.ylabel('VIX')\n",
        "    plt.title('VIX and its 28-day Moving Average')\n",
        "    plt.legend()\n",
        "    plt.savefig('vix_plot.png')\n",
        "    plt.close()\n",
        "\n",
        "    # Define the target variable for anomaly prediction\n",
        "    target_anomaly = df['Y']\n",
        "\n",
        "    # Split the data into training and testing sets for anomaly prediction\n",
        "    X_train_anomaly, X_test_anomaly, y_train_anomaly, y_test_anomaly = train_test_split(features_vix, target_anomaly, test_size=0.2, random_state=42)\n",
        "\n",
        "    # Train the XGBoost model for anomaly prediction\n",
        "    model_anomaly = xgb.XGBClassifier(use_label_encoder=False, eval_metric='logloss')\n",
        "    model_anomaly.fit(X_train_anomaly, y_train_anomaly)\n",
        "\n",
        "    # Predict on the test set for anomaly prediction\n",
        "    y_pred_anomaly = model_anomaly.predict(X_test_anomaly)\n",
        "\n",
        "    # Evaluate the model for anomaly prediction\n",
        "    accuracy = accuracy_score(y_test_anomaly, y_pred_anomaly)\n",
        "    precision = precision_score(y_test_anomaly, y_pred_anomaly)\n",
        "    recall = recall_score(y_test_anomaly, y_pred_anomaly)\n",
        "    f1 = f1_score(y_test_anomaly, y_pred_anomaly)\n",
        "\n",
        "    anomaly_metrics = (\n",
        "        f'Accuracy for anomaly prediction: {accuracy}\\n'\n",
        "        f'Precision for anomaly prediction: {precision}\\n'\n",
        "        f'Recall for anomaly prediction: {recall}\\n'\n",
        "        f'F1 Score for anomaly prediction: {f1}\\n'\n",
        "    )\n",
        "\n",
        "    # Generate the classification report for anomaly prediction\n",
        "    report_anomaly = classification_report(y_test_anomaly, y_pred_anomaly)\n",
        "\n",
        "    return result, 'vix_plot.png', report_vix, anomaly_metrics, report_anomaly\n",
        "\n",
        "# Gradio UI\n",
        "def gradio_interface(file):\n",
        "    df = pd.read_csv(file.name, parse_dates=['Data'], date_parser=lambda x: pd.to_datetime(x, format='%d/%m/%Y'))\n",
        "    return analyze_financial_market_data(df)\n",
        "\n",
        "inputs = gr.File(label=\"Upload CSV file\")\n",
        "outputs = [\n",
        "    gr.Textbox(label=\"Analysis Results\"),\n",
        "    gr.Image(label=\"VIX Plot\"),\n",
        "    gr.Textbox(label=\"VIX Classification Report\"),\n",
        "    gr.Textbox(label=\"Anomaly Metrics\"),\n",
        "    gr.Textbox(label=\"Anomaly Classification Report\")\n",
        "]\n",
        "\n",
        "gr.Interface(fn=gradio_interface, inputs=inputs, outputs=outputs, title=\"Market Anomaly Detection\").launch()\n"
      ],
      "metadata": {
        "colab": {
          "base_uri": "https://localhost:8080/",
          "height": 650
        },
        "id": "Z2pdj3RJLKKS",
        "outputId": "fba23f29-7975-41e9-83bb-4ea5fb6216dc"
      },
      "execution_count": null,
      "outputs": [
        {
          "output_type": "stream",
          "name": "stdout",
          "text": [
            "Running Gradio in a Colab notebook requires sharing enabled. Automatically setting `share=True` (you can turn this off by setting `share=False` in `launch()` explicitly).\n",
            "\n",
            "Colab notebook detected. To show errors in colab notebook, set debug=True in launch()\n",
            "* Running on public URL: https://edbfa7a0ac6975df8a.gradio.live\n",
            "\n",
            "This share link expires in 72 hours. For free permanent hosting and GPU upgrades, run `gradio deploy` from the terminal in the working directory to deploy to Hugging Face Spaces (https://huggingface.co/spaces)\n"
          ]
        },
        {
          "output_type": "display_data",
          "data": {
            "text/plain": [
              "<IPython.core.display.HTML object>"
            ],
            "text/html": [
              "<div><iframe src=\"https://edbfa7a0ac6975df8a.gradio.live\" width=\"100%\" height=\"500\" allow=\"autoplay; camera; microphone; clipboard-read; clipboard-write;\" frameborder=\"0\" allowfullscreen></iframe></div>"
            ]
          },
          "metadata": {}
        },
        {
          "output_type": "execute_result",
          "data": {
            "text/plain": []
          },
          "metadata": {},
          "execution_count": 39
        }
      ]
    }
  ]
}